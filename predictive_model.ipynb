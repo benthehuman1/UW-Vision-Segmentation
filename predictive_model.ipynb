{
 "cells": [
  {
   "cell_type": "code",
   "execution_count": 1,
   "metadata": {
    "scrolled": true
   },
   "outputs": [],
   "source": [
    "import numpy as np\n",
    "import matplotlib.pyplot as plt\n",
    "import random\n",
    "from tensorflow import keras\n",
    "from tensorflow.keras.layers import Dense\n",
    "from tensorflow.keras.optimizers import SGD, Adam\n",
    "\n",
    "import tensorflow as tf\n",
    "from dataset_creation import (\n",
    "    MultiScaleImageSampler, \n",
    "    ImageChunkSummarizerOptions, \n",
    "    MultiScaleImageEncoder, \n",
    "    MultiScaleImageDecoder, \n",
    "    ImageAtScale, \n",
    "    CityscapesDatasetFactory, \n",
    "    CityScapesDataset\n",
    ")"
   ]
  },
  {
   "cell_type": "code",
   "execution_count": 2,
   "metadata": {},
   "outputs": [
    {
     "name": "stdout",
     "output_type": "stream",
     "text": [
      "0.npy,1.npy,2.npy,3.npy,4.npy,5.npy,6.npy,7.npy,8.npy,9.npy,10.npy,11.npy,12.npy,13.npy,14.npy,15.npy,16.npy,17.npy,18.npy,19.npy,20.npy,21.npy,22.npy,23.npy,24.npy,25.npy,26.npy,27.npy,28.npy,29.npy,30.npy,31.npy,32.npy,33.npy,34.npy,35.npy,36.npy,37.npy,38.npy,39.npy,40.npy,41.npy,42.npy,43.npy,44.npy,45.npy,46.npy,47.npy,48.npy,49.npy,50.npy,51.npy,52.npy,53.npy,54.npy,55.npy,56.npy,57.npy,58.npy,59.npy,60.npy,61.npy,62.npy,63.npy,64.npy,65.npy,66.npy,67.npy,68.npy,69.npy,70.npy,71.npy,72.npy,73.npy,74.npy,75.npy,76.npy,77.npy,78.npy,79.npy,80.npy,81.npy,82.npy,83.npy,84.npy,85.npy,86.npy,87.npy,88.npy,89.npy,90.npy,91.npy,92.npy,93.npy,94.npy,95.npy,96.npy,97.npy,98.npy,99.npy,100.npy,\n"
     ]
    },
    {
     "name": "stderr",
     "output_type": "stream",
     "text": [
      "C:\\Users\\Kevin\\Downloads\\UW-Vision-Segmentation-main\\dataset_creation.py:681: RuntimeWarning: invalid value encountered in true_divide\n",
      "  feature_01 = (features - self.raw_feature_min) / feature_range\n",
      "C:\\Users\\Kevin\\Downloads\\UW-Vision-Segmentation-main\\dataset_creation.py:700: RuntimeWarning: invalid value encountered in true_divide\n",
      "  feature_01 = (features - feature_min) / feature_range\n"
     ]
    },
    {
     "name": "stdout",
     "output_type": "stream",
     "text": [
      "(500000, 30)\n",
      "(500000, 701)\n"
     ]
    },
    {
     "data": {
      "text/plain": [
       "[<matplotlib.lines.Line2D at 0x17cefdc8448>]"
      ]
     },
     "execution_count": 2,
     "metadata": {},
     "output_type": "execute_result"
    },
    {
     "data": {
      "image/png": "[encoded data removed]",
      "text/plain": [
       "<Figure size 432x288 with 2 Axes>"
      ]
     },
     "metadata": {
      "needs_background": "light"
     },
     "output_type": "display_data"
    }
   ],
   "source": [
    "# Load the input\n",
    "dataset = CityScapesDataset(\"full_dataset_v1_500000\")\n",
    "dataset.load()\n",
    "normalized_features = dataset.get_normalized_features()\n",
    "print(dataset.labels.shape)\n",
    "print(dataset.features.shape)\n",
    "sample_feature = dataset.features[0]\n",
    "sample_feature_normalized = normalized_features[0]\n",
    "fig, (ax1, ax2) = plt.subplots(1, 2)\n",
    "ax1.plot(sample_feature)\n",
    "ax2.plot(sample_feature_normalized)"
   ]
  },
  {
   "cell_type": "code",
   "execution_count": 3,
   "metadata": {},
   "outputs": [
    {
     "name": "stdout",
     "output_type": "stream",
     "text": [
      "(12000, 701)\n",
      "(500000, 701)\n",
      "(12000, 30)\n",
      "(500000, 30)\n"
     ]
    }
   ],
   "source": [
    "test_features = normalized_features[0: 12000]\n",
    "test_labels = dataset.labels[0: 12000]\n",
    "train_features = normalized_features\n",
    "train_labels = dataset.labels\n",
    "print(test_features.shape)\n",
    "print(train_features.shape)\n",
    "print(test_labels.shape)\n",
    "print(train_labels.shape)\n",
    "test_features[np.isnan(test_features)] = 0\n",
    "train_features[np.isnan(train_features)] = 0"
   ]
  },
  {
   "cell_type": "code",
   "execution_count": 4,
   "metadata": {},
   "outputs": [],
   "source": [
    "y_train = tf.keras.utils.to_categorical(train_labels)\n",
    "y_test = tf.keras.utils.to_categorical(test_labels)"
   ]
  },
  {
   "cell_type": "code",
   "execution_count": 98,
   "metadata": {},
   "outputs": [
    {
     "name": "stdout",
     "output_type": "stream",
     "text": [
      "Model: \"sequential_24\"\n",
      "_________________________________________________________________\n",
      "Layer (type)                 Output Shape              Param #   \n",
      "=================================================================\n",
      "dense_72 (Dense)             (None, 64)                44928     \n",
      "_________________________________________________________________\n",
      "dense_73 (Dense)             (None, 32)                2080      \n",
      "_________________________________________________________________\n",
      "dense_74 (Dense)             (None, 30)                990       \n",
      "=================================================================\n",
      "Total params: 47,998\n",
      "Trainable params: 47,998\n",
      "Non-trainable params: 0\n",
      "_________________________________________________________________\n"
     ]
    }
   ],
   "source": [
    "model = tf.keras.models.Sequential()\n",
    "model.add(Dense(units=64, input_shape=(701,), activation=tf.nn.relu))\n",
    "model.add(Dense(units=32, activation=tf.nn.relu))\n",
    "model.add(Dense(units=30, activation=tf.nn.softmax))\n",
    "model.summary()"
   ]
  },
  {
   "cell_type": "code",
   "execution_count": 95,
   "metadata": {},
   "outputs": [
    {
     "name": "stdout",
     "output_type": "stream",
     "text": [
      "(500000, 30, 2)\n",
      "(500000, 30)\n"
     ]
    }
   ],
   "source": [
    "model.compile(loss='mean_squared_logarithmic_error', optimizer=Adam(learning_rate=0.0001), metrics=['accuracy'])\n",
    "print(y_train.shape)\n",
    "print(train_labels.shape)"
   ]
  },
  {
   "cell_type": "code",
   "execution_count": 97,
   "metadata": {},
   "outputs": [
    {
     "name": "stdout",
     "output_type": "stream",
     "text": [
      "Train on 500000 samples\n",
      "Epoch 1/57\n",
      "500000/500000 [==============================] - 20s 40us/sample - loss: 0.0047 - accuracy: 0.7535\n",
      "Epoch 2/57\n",
      "500000/500000 [==============================] - 22s 43us/sample - loss: 0.0043 - accuracy: 0.7715\n",
      "Epoch 3/57\n",
      "500000/500000 [==============================] - 21s 42us/sample - loss: 0.0040 - accuracy: 0.7850\n",
      "Epoch 4/57\n",
      "500000/500000 [==============================] - 22s 44us/sample - loss: 0.0038 - accuracy: 0.7951\n",
      "Epoch 5/57\n",
      "500000/500000 [==============================] - 22s 43us/sample - loss: 0.0037 - accuracy: 0.8031\n",
      "Epoch 6/57\n",
      "500000/500000 [==============================] - 24s 48us/sample - loss: 0.0035 - accuracy: 0.8103\n",
      "Epoch 7/57\n",
      "500000/500000 [==============================] - 23s 46us/sample - loss: 0.0034 - accuracy: 0.8160\n",
      "Epoch 8/57\n",
      "500000/500000 [==============================] - 23s 46us/sample - loss: 0.0033 - accuracy: 0.8215\n",
      "Epoch 9/57\n",
      "500000/500000 [==============================] - 22s 44us/sample - loss: 0.0032 - accuracy: 0.8270\n",
      "Epoch 10/57\n",
      "500000/500000 [==============================] - 22s 45us/sample - loss: 0.0031 - accuracy: 0.8315\n",
      "Epoch 11/57\n",
      "500000/500000 [==============================] - 23s 46us/sample - loss: 0.0031 - accuracy: 0.8356\n",
      "Epoch 12/57\n",
      "500000/500000 [==============================] - 22s 44us/sample - loss: 0.0030 - accuracy: 0.8393\n",
      "Epoch 13/57\n",
      "500000/500000 [==============================] - 23s 47us/sample - loss: 0.0029 - accuracy: 0.8428\n",
      "Epoch 14/57\n",
      "500000/500000 [==============================] - 23s 47us/sample - loss: 0.0029 - accuracy: 0.8459\n",
      "Epoch 15/57\n",
      "500000/500000 [==============================] - 23s 47us/sample - loss: 0.0028 - accuracy: 0.8489\n",
      "Epoch 16/57\n",
      "500000/500000 [==============================] - 25s 50us/sample - loss: 0.0028 - accuracy: 0.8519\n",
      "Epoch 17/57\n",
      "500000/500000 [==============================] - 27s 55us/sample - loss: 0.0027 - accuracy: 0.8543\n",
      "Epoch 18/57\n",
      "500000/500000 [==============================] - 27s 53us/sample - loss: 0.0027 - accuracy: 0.8568\n",
      "Epoch 19/57\n",
      "500000/500000 [==============================] - 24s 48us/sample - loss: 0.0026 - accuracy: 0.8592\n",
      "Epoch 20/57\n",
      "500000/500000 [==============================] - 24s 47us/sample - loss: 0.0026 - accuracy: 0.8612\n",
      "Epoch 21/57\n",
      "500000/500000 [==============================] - 24s 47us/sample - loss: 0.0025 - accuracy: 0.8633\n",
      "Epoch 22/57\n",
      "500000/500000 [==============================] - 24s 48us/sample - loss: 0.0025 - accuracy: 0.8647\n",
      "Epoch 23/57\n",
      "500000/500000 [==============================] - 24s 47us/sample - loss: 0.0025 - accuracy: 0.8668\n",
      "Epoch 24/57\n",
      "500000/500000 [==============================] - 25s 49us/sample - loss: 0.0024 - accuracy: 0.8683\n",
      "Epoch 25/57\n",
      "500000/500000 [==============================] - 24s 49us/sample - loss: 0.0024 - accuracy: 0.8703\n",
      "Epoch 26/57\n",
      "500000/500000 [==============================] - 26s 52us/sample - loss: 0.0024 - accuracy: 0.8715\n",
      "Epoch 27/57\n",
      "500000/500000 [==============================] - 27s 55us/sample - loss: 0.0024 - accuracy: 0.8731\n",
      "Epoch 28/57\n",
      "500000/500000 [==============================] - 25s 51us/sample - loss: 0.0023 - accuracy: 0.8750\n",
      "Epoch 29/57\n",
      "500000/500000 [==============================] - 25s 50us/sample - loss: 0.0023 - accuracy: 0.8760\n",
      "Epoch 30/57\n",
      "500000/500000 [==============================] - 25s 50us/sample - loss: 0.0023 - accuracy: 0.8773\n",
      "Epoch 31/57\n",
      "500000/500000 [==============================] - 24s 48us/sample - loss: 0.0023 - accuracy: 0.8788\n",
      "Epoch 32/57\n",
      "500000/500000 [==============================] - 24s 49us/sample - loss: 0.0022 - accuracy: 0.8799\n",
      "Epoch 33/57\n",
      "500000/500000 [==============================] - 24s 47us/sample - loss: 0.0022 - accuracy: 0.8810\n",
      "Epoch 34/57\n",
      "500000/500000 [==============================] - 24s 49us/sample - loss: 0.0022 - accuracy: 0.8826\n",
      "Epoch 35/57\n",
      "500000/500000 [==============================] - 23s 46us/sample - loss: 0.0022 - accuracy: 0.8833\n",
      "Epoch 36/57\n",
      "500000/500000 [==============================] - 23s 45us/sample - loss: 0.0021 - accuracy: 0.8845\n",
      "Epoch 37/57\n",
      "500000/500000 [==============================] - 23s 45us/sample - loss: 0.0021 - accuracy: 0.8855\n",
      "Epoch 38/57\n",
      "500000/500000 [==============================] - 25s 49us/sample - loss: 0.0021 - accuracy: 0.8861\n",
      "Epoch 39/57\n",
      "500000/500000 [==============================] - 25s 49us/sample - loss: 0.0021 - accuracy: 0.8875\n",
      "Epoch 40/57\n",
      "500000/500000 [==============================] - 27s 54us/sample - loss: 0.0021 - accuracy: 0.8883\n",
      "Epoch 41/57\n",
      "500000/500000 [==============================] - 28s 55us/sample - loss: 0.0021 - accuracy: 0.8889\n",
      "Epoch 42/57\n",
      "500000/500000 [==============================] - 26s 52us/sample - loss: 0.0020 - accuracy: 0.8900\n",
      "Epoch 43/57\n",
      "500000/500000 [==============================] - 27s 55us/sample - loss: 0.0020 - accuracy: 0.8906\n",
      "Epoch 44/57\n",
      "500000/500000 [==============================] - 28s 55us/sample - loss: 0.0020 - accuracy: 0.8918\n",
      "Epoch 45/57\n",
      "500000/500000 [==============================] - 27s 54us/sample - loss: 0.0020 - accuracy: 0.8924\n",
      "Epoch 46/57\n",
      "500000/500000 [==============================] - 27s 55us/sample - loss: 0.0020 - accuracy: 0.8930\n",
      "Epoch 47/57\n",
      "500000/500000 [==============================] - 28s 55us/sample - loss: 0.0020 - accuracy: 0.8939\n",
      "Epoch 48/57\n",
      "500000/500000 [==============================] - 28s 56us/sample - loss: 0.0020 - accuracy: 0.8946\n",
      "Epoch 49/57\n",
      "500000/500000 [==============================] - 26s 52us/sample - loss: 0.0020 - accuracy: 0.8950\n",
      "Epoch 50/57\n",
      "500000/500000 [==============================] - 25s 50us/sample - loss: 0.0019 - accuracy: 0.8961\n",
      "Epoch 51/57\n",
      "500000/500000 [==============================] - 25s 50us/sample - loss: 0.0019 - accuracy: 0.8964\n",
      "Epoch 52/57\n",
      "500000/500000 [==============================] - 26s 51us/sample - loss: 0.0019 - accuracy: 0.8974\n",
      "Epoch 53/57\n",
      "500000/500000 [==============================] - 25s 50us/sample - loss: 0.0019 - accuracy: 0.8977\n",
      "Epoch 54/57\n",
      "500000/500000 [==============================] - 26s 52us/sample - loss: 0.0019 - accuracy: 0.8982\n",
      "Epoch 55/57\n",
      "500000/500000 [==============================] - 25s 49us/sample - loss: 0.0019 - accuracy: 0.8991\n",
      "Epoch 56/57\n",
      "500000/500000 [==============================] - 24s 48us/sample - loss: 0.0019 - accuracy: 0.8993\n",
      "Epoch 57/57\n",
      "500000/500000 [==============================] - 24s 47us/sample - loss: 0.0019 - accuracy: 0.9003\n"
     ]
    },
    {
     "data": {
      "text/plain": [
       "<tensorflow.python.keras.callbacks.History at 0x17d0afbdec8>"
      ]
     },
     "execution_count": 97,
     "metadata": {},
     "output_type": "execute_result"
    }
   ],
   "source": [
    "model.fit(x=train_features, y=train_labels, epochs = 57)"
   ]
  },
  {
   "cell_type": "markdown",
   "metadata": {},
   "source": []
  },
  {
   "cell_type": "code",
   "execution_count": 81,
   "metadata": {},
   "outputs": [
    {
     "name": "stdout",
     "output_type": "stream",
     "text": [
      "(12000, 701)\n",
      "(12000, 30)\n",
      "12000/12000 [==============================] - 0s 23us/sample - loss: 0.0032 - accuracy: 0.8327\n",
      "0.003179625158663839\n",
      "0.8326667\n"
     ]
    }
   ],
   "source": [
    "print(test_features.shape)\n",
    "print(test_labels.shape)\n",
    "loss, accuracy = model.evaluate(test_features, test_labels, verbose=True)\n",
    "print(loss)\n",
    "print(accuracy)"
   ]
  },
  {
   "cell_type": "code",
   "execution_count": 82,
   "metadata": {},
   "outputs": [],
   "source": [
    "model.save('C:\\\\Users\\\\Kevin\\\\Downloads\\\\UW-Vision-Segmentation-main\\\\models\\\\47,998my_model.h5')"
   ]
  },
  {
   "cell_type": "code",
   "execution_count": 83,
   "metadata": {},
   "outputs": [],
   "source": [
    "prediction = model.predict(test_features)"
   ]
  },
  {
   "cell_type": "code",
   "execution_count": 84,
   "metadata": {},
   "outputs": [
    {
     "name": "stdout",
     "output_type": "stream",
     "text": [
      "841\n"
     ]
    }
   ],
   "source": [
    "accurate = 0\n",
    "for ind in range(1000):\n",
    "    p1 = str(np.where(prediction[ind]==max(prediction[ind])))\n",
    "    p2 = str(np.where(train_labels[ind]==max(train_labels[ind])))\n",
    "    if p1 == p2:\n",
    "        accurate += 1\n",
    "        \n",
    "print(accurate)"
   ]
  },
  {
   "cell_type": "code",
   "execution_count": 85,
   "metadata": {},
   "outputs": [],
   "source": [
    "model = keras.models.load_model('C:\\\\Users\\\\Kevin\\\\Downloads\\\\UW-Vision-Segmentation-main\\\\models\\\\845,982my_model.h5')"
   ]
  },
  {
   "cell_type": "code",
   "execution_count": 2,
   "metadata": {},
   "outputs": [
    {
     "name": "stdout",
     "output_type": "stream",
     "text": [
      "2.1.0\n",
      "[PhysicalDevice(name='/physical_device:CPU:0', device_type='CPU')]\n",
      "\n"
     ]
    }
   ],
   "source": [
    "print(tf.__version__)\n",
    "print(tf.config.list_physical_devices())\n",
    "print(tf.test.gpu_device_name())"
   ]
  },
  {
   "cell_type": "code",
   "execution_count": null,
   "metadata": {},
   "outputs": [],
   "source": []
  }
 ],
 "metadata": {
  "kernelspec": {
   "display_name": "Python 3",
   "language": "python",
   "name": "python3"
  },
  "language_info": {
   "codemirror_mode": {
    "name": "ipython",
    "version": 3
   },
   "file_extension": ".py",
   "mimetype": "text/x-python",
   "name": "python",
   "nbconvert_exporter": "python",
   "pygments_lexer": "ipython3",
   "version": "3.7.7"
  }
 },
 "nbformat": 4,
 "nbformat_minor": 2
}
